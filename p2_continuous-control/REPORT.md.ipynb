{
 "cells": [
  {
   "cell_type": "markdown",
   "metadata": {},
   "source": [
    "## Udacity - DDPG Algorithm - Reacher Continuous Control Project 2\n",
    "\n",
    "### DDPG Model Architecture \n",
    "The Udacity provided DDPG code in PyTorch was utilized and adapted for this 20 agent (version 2) environment.\n",
    "\n",
    "The DDPG neural network which is an actor-critic model, each with two hidden layers of 264 and 132 nodes, with ReLU activation functions on the hidden layers and tanh on the output layers. \n",
    "\n",
    "\n",
    "### Hyperparameter settings\n",
    "A learning rate of 1e-4 on each DNN and batch size of 128 were set with replay buffer size of 1e5, gamma .999 and Tau of 1e-3. There was no change to the  Ornstein-Uhlenbeck noise parameters (0.15 theta and 0.2 sigma.)\n",
    "\n",
    "\n",
    "## Results and Future Work\n",
    "\n",
    "The model was able to achieve the 30 average reward goal (trailing 100 scores window) in 15 episodes.\n",
    "\n",
    "<img src=\"rewards_graphed.png\" width=\"500\" height=\"300\" />\n",
    "\n",
    "I did some tuning other hyperparameters, but they did not have the same positive impact as hidden layer node reduction from the Udacity 400,200 example and learning rate changes described above. In the future I would attempt adjustments to the Ornstein-Uhlenbeck noise level, which controls the amount of exploration, could possible yield improved results in certain environments. A decaying noise level is done in other deep reinforcement learning algorithms.\n",
    "\n",
    "The plan for the future is to attempt the Crawler exercise, which is much more complex to see how to  further improve on the baseline DDPG algorithm."
   ]
  },
  {
   "cell_type": "markdown",
   "metadata": {},
   "source": []
  }
 ],
 "metadata": {
  "kernelspec": {
   "display_name": "drlnd",
   "language": "python",
   "name": "drlnd"
  },
  "language_info": {
   "codemirror_mode": {
    "name": "ipython",
    "version": 3
   },
   "file_extension": ".py",
   "mimetype": "text/x-python",
   "name": "python",
   "nbconvert_exporter": "python",
   "pygments_lexer": "ipython3",
   "version": "3.6.6"
  }
 },
 "nbformat": 4,
 "nbformat_minor": 2
}
